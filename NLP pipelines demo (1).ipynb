{
 "cells": [
  {
   "cell_type": "code",
   "execution_count": null,
   "id": "92309a14",
   "metadata": {},
   "outputs": [],
   "source": [
    "from transformers import pipeline\n",
    "\n",
    "qa_pipeline = pipeline(\"question-answering\")\n",
    "\n",
    "context = \"\"\"The Eiffel Tower is one of the most famous landmarks in the world.\n",
    "It was constructed in 1889 in Paris, France, and stands at a height of 330 meters.\"\"\"\n",
    "\n",
    "question = \"Where is the Eiffel Tower located?\"\n",
    "\n",
    "result = qa_pipeline(question=question, context=context)\n",
    "print(result)\n"
   ]
  },
  {
   "cell_type": "code",
   "execution_count": null,
   "id": "0edf6e70",
   "metadata": {},
   "outputs": [],
   "source": [
    "summarizer = pipeline(\"summarization\")\n",
    "\n",
    "text = \"\"\"Artificial Intelligence (AI) is transforming industries by automating\n",
    "tasks, improving efficiency, and enabling data-driven decision-making.\n",
    "Companies across healthcare, finance, and transportation are integrating AI\n",
    "to enhance productivity and customer experiences.\"\"\"\n",
    "\n",
    "summary = summarizer(text, max_length=30, min_length=10, do_sample=False)\n",
    "print(summary)\n"
   ]
  },
  {
   "cell_type": "code",
   "execution_count": null,
   "id": "8c03ac7c",
   "metadata": {},
   "outputs": [],
   "source": [
    "from transformers import pipeline\n",
    "import pandas as pd\n",
    "\n",
    "# Load table QA pipeline\n",
    "table_qa = pipeline(\"table-question-answering\")\n",
    "\n",
    "# Create a simple table\n",
    "data = {\n",
    "    \"Name\": [\"Alice\", \"Bob\"],\n",
    "    \"Age\": [\"25\", \"30\"],\n",
    "    \"City\": [\"New York\", \"San Francisco\"]\n",
    "}\n",
    "table = pd.DataFrame.from_dict(data)\n",
    "\n",
    "# Ask a question about the table\n",
    "question = \"Where does Bob live?\"\n",
    "result = table_qa(table=table, query=question)\n",
    "print(result)\n"
   ]
  },
  {
   "cell_type": "code",
   "execution_count": null,
   "id": "2e03c8ef",
   "metadata": {},
   "outputs": [],
   "source": [
    "text2text = pipeline(\"text2text-generation\")\n",
    "\n",
    "text = \"Convert this sentence into a question: The sky is blue.\"\n",
    "result = text2text(text)\n",
    "print(result)\n"
   ]
  },
  {
   "cell_type": "code",
   "execution_count": null,
   "id": "5c650bee",
   "metadata": {},
   "outputs": [],
   "source": [
    "classifier = pipeline(\"text-classification\")\n",
    "\n",
    "text = \"I absolutely love this new AI model!\"\n",
    "result = classifier(text)\n",
    "print(result)\n"
   ]
  },
  {
   "cell_type": "code",
   "execution_count": null,
   "id": "9b92266f",
   "metadata": {},
   "outputs": [],
   "source": [
    "generator = pipeline(\"text-generation\")\n",
    "\n",
    "prompt = \"The future of AI is\"\n",
    "result = generator(prompt, max_length=30, num_return_sequences=1)\n",
    "print(result)\n"
   ]
  },
  {
   "cell_type": "code",
   "execution_count": null,
   "id": "b833099f",
   "metadata": {},
   "outputs": [],
   "source": [
    "ner_pipeline = pipeline(\"token-classification\", grouped_entities=True)\n",
    "\n",
    "text = \"Elon Musk founded SpaceX in 2002 and acquired Twitter in 2022.\"\n",
    "result = ner_pipeline(text)\n",
    "print(result)\n"
   ]
  },
  {
   "cell_type": "code",
   "execution_count": null,
   "id": "c41ac283",
   "metadata": {},
   "outputs": [],
   "source": [
    "translator = pipeline(\"translation_en_to_fr\")\n",
    "\n",
    "text = \"Hello, how are you?\"\n",
    "result = translator(text)\n",
    "print(result)\n"
   ]
  },
  {
   "cell_type": "code",
   "execution_count": null,
   "id": "31f207f6",
   "metadata": {},
   "outputs": [],
   "source": [
    "zero_shot = pipeline(\"zero-shot-classification\")\n",
    "\n",
    "text = \"I love playing football during the weekends.\"\n",
    "labels = [\"sports\", \"technology\", \"food\"]\n",
    "\n",
    "result = zero_shot(text, candidate_labels=labels)\n",
    "print(result['labels'])\n",
    "print(result['scores'])\n"
   ]
  },
  {
   "cell_type": "code",
   "execution_count": null,
   "id": "467ea4bb",
   "metadata": {},
   "outputs": [],
   "source": []
  },
  {
   "cell_type": "code",
   "execution_count": null,
   "id": "c9744e88",
   "metadata": {},
   "outputs": [],
   "source": []
  },
  {
   "cell_type": "code",
   "execution_count": null,
   "id": "f05e5b3d",
   "metadata": {},
   "outputs": [],
   "source": []
  },
  {
   "cell_type": "code",
   "execution_count": null,
   "id": "f16fed88",
   "metadata": {},
   "outputs": [],
   "source": []
  },
  {
   "cell_type": "code",
   "execution_count": null,
   "id": "886046da",
   "metadata": {},
   "outputs": [],
   "source": []
  },
  {
   "cell_type": "code",
   "execution_count": null,
   "id": "3c467e7e",
   "metadata": {},
   "outputs": [],
   "source": []
  }
 ],
 "metadata": {
  "kernelspec": {
   "display_name": "Python 3 (ipykernel)",
   "language": "python",
   "name": "python3"
  },
  "language_info": {
   "codemirror_mode": {
    "name": "ipython",
    "version": 3
   },
   "file_extension": ".py",
   "mimetype": "text/x-python",
   "name": "python",
   "nbconvert_exporter": "python",
   "pygments_lexer": "ipython3",
   "version": "3.11.5"
  },
  "varInspector": {
   "cols": {
    "lenName": 16,
    "lenType": 16,
    "lenVar": 40
   },
   "kernels_config": {
    "python": {
     "delete_cmd_postfix": "",
     "delete_cmd_prefix": "del ",
     "library": "var_list.py",
     "varRefreshCmd": "print(var_dic_list())"
    },
    "r": {
     "delete_cmd_postfix": ") ",
     "delete_cmd_prefix": "rm(",
     "library": "var_list.r",
     "varRefreshCmd": "cat(var_dic_list()) "
    }
   },
   "types_to_exclude": [
    "module",
    "function",
    "builtin_function_or_method",
    "instance",
    "_Feature"
   ],
   "window_display": false
  }
 },
 "nbformat": 4,
 "nbformat_minor": 5
}
