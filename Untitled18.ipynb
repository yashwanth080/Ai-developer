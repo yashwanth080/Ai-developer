{
  "nbformat": 4,
  "nbformat_minor": 0,
  "metadata": {
    "colab": {
      "provenance": []
    },
    "kernelspec": {
      "name": "python3",
      "display_name": "Python 3"
    },
    "language_info": {
      "name": "python"
    }
  },
  "cells": [
    {
      "cell_type": "code",
      "execution_count": 13,
      "metadata": {
        "colab": {
          "base_uri": "https://localhost:8080/"
        },
        "id": "tnyymDCUIwvD",
        "outputId": "c7352825-88d0-417a-c601-e24a2e5bf3ee"
      },
      "outputs": [
        {
          "name": "stdout",
          "output_type": "stream",
          "text": [
            "Anwin\n"
          ]
        }
      ],
      "source": [
        "sentence = input()\\"
      ]
    },
    {
      "cell_type": "code",
      "source": [
        "exit_words = ['esc','quit','stop','exit']"
      ],
      "metadata": {
        "id": "ZwsrTksDI9Ru"
      },
      "execution_count": 14,
      "outputs": []
    },
    {
      "cell_type": "code",
      "source": [
        "def lowercase(sent):\n",
        "  return sent.lower()"
      ],
      "metadata": {
        "id": "akgKVj8fJOcp"
      },
      "execution_count": 15,
      "outputs": []
    },
    {
      "cell_type": "code",
      "source": [
        "n = lowercase(sentence)"
      ],
      "metadata": {
        "id": "dcOqb348KLLN"
      },
      "execution_count": 16,
      "outputs": []
    },
    {
      "cell_type": "code",
      "source": [
        "n"
      ],
      "metadata": {
        "colab": {
          "base_uri": "https://localhost:8080/",
          "height": 35
        },
        "id": "4RJtjn_2Kedp",
        "outputId": "3c2cf4bd-9064-4b73-d5bc-39a257f692f4"
      },
      "execution_count": 17,
      "outputs": [
        {
          "output_type": "execute_result",
          "data": {
            "text/plain": [
              "'anwin'"
            ],
            "application/vnd.google.colaboratory.intrinsic+json": {
              "type": "string"
            }
          },
          "metadata": {},
          "execution_count": 17
        }
      ]
    },
    {
      "cell_type": "code",
      "source": [
        "def uppercase(sent):\n",
        "  return sent.upper()"
      ],
      "metadata": {
        "id": "J9DhJh3LKoF0"
      },
      "execution_count": 18,
      "outputs": []
    },
    {
      "cell_type": "code",
      "source": [
        "x =input()\n",
        "while x not in exit_words:\n",
        "  choice = input(\"give 1 or 2 option : \")\n",
        "  if choice == '1':\n",
        "    print(lowercase(x))\n",
        "  elif choice == '2':\n",
        "    print(uppercase(x))\n",
        "  else:\n",
        "    print(\"invalid option\")\n",
        "  x = input()"
      ],
      "metadata": {
        "id": "Vjjf0UrnNfaI"
      },
      "execution_count": null,
      "outputs": []
    },
    {
      "cell_type": "code",
      "source": [
        "exit_words = {\"exit\", \"quit\", \"stop\"}  # Define exit words\n",
        "\n",
        "x = input(\"Enter first word (or type 'exit' to stop): \")\n",
        "y = input(\"Enter second word (or type 'exit' to stop): \")\n",
        "z = input(\"Enter third word (or type 'exit' to stop): \")\n",
        "\n",
        "while x not in exit_words and y not in exit_words and z not in exit_words:\n",
        "    choice = input(\"Choose 1 or 2: \")\n",
        "\n",
        "    if choice == '1':\n",
        "        print(x.lower(), y.lower(), z.lower())  # Convert all to lowercase\n",
        "    elif choice == '2':\n",
        "        print(x.upper(), y.upper(), z.upper())  # Convert all to uppercase\n",
        "    else:\n",
        "        print(\"Invalid option\")\n",
        "\n",
        "    x = input(\"Enter first word (or type 'exit' to stop): \")\n",
        "    y = input(\"Enter second word (or type 'exit' to stop): \")\n",
        "    z = input(\"Enter third word (or type 'exit' to stop): \")\n",
        "\n",
        "print(\"Goodbye!\")\n"
      ],
      "metadata": {
        "id": "S3-JOsQvN37w"
      },
      "execution_count": null,
      "outputs": []
    },
    {
      "cell_type": "code",
      "source": [],
      "metadata": {
        "id": "8KHGjjNeQMyy"
      },
      "execution_count": null,
      "outputs": []
    }
  ]
}