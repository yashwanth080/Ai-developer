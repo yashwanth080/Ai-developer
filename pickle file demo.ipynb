{
 "cells": [
  {
   "cell_type": "code",
   "execution_count": 1,
   "id": "0540470c",
   "metadata": {},
   "outputs": [],
   "source": [
    "import pandas as pd\n",
    "import numpy as np\n",
    "from sklearn.datasets import fetch_california_housing\n",
    "from sklearn.model_selection import train_test_split\n",
    "from sklearn.preprocessing import StandardScaler\n",
    "import pickle\n",
    "\n",
    "# Load the California Housing dataset\n",
    "california = fetch_california_housing()"
   ]
  },
  {
   "cell_type": "code",
   "execution_count": 2,
   "id": "15a3d131",
   "metadata": {},
   "outputs": [
    {
     "data": {
      "text/plain": [
       "(20640, 8)"
      ]
     },
     "execution_count": 2,
     "metadata": {},
     "output_type": "execute_result"
    }
   ],
   "source": [
    "california.data.shape"
   ]
  },
  {
   "cell_type": "code",
   "execution_count": 3,
   "id": "01a089fd",
   "metadata": {},
   "outputs": [
    {
     "data": {
      "text/plain": [
       "array([[ 8.32520000e+00,  4.10000000e+01,  6.98412698e+00,\n",
       "         1.02380952e+00,  3.22000000e+02,  2.55555556e+00,\n",
       "         3.78800000e+01, -1.22230000e+02],\n",
       "       [ 8.30140000e+00,  2.10000000e+01,  6.23813708e+00,\n",
       "         9.71880492e-01,  2.40100000e+03,  2.10984183e+00,\n",
       "         3.78600000e+01, -1.22220000e+02],\n",
       "       [ 7.25740000e+00,  5.20000000e+01,  8.28813559e+00,\n",
       "         1.07344633e+00,  4.96000000e+02,  2.80225989e+00,\n",
       "         3.78500000e+01, -1.22240000e+02],\n",
       "       [ 5.64310000e+00,  5.20000000e+01,  5.81735160e+00,\n",
       "         1.07305936e+00,  5.58000000e+02,  2.54794521e+00,\n",
       "         3.78500000e+01, -1.22250000e+02],\n",
       "       [ 3.84620000e+00,  5.20000000e+01,  6.28185328e+00,\n",
       "         1.08108108e+00,  5.65000000e+02,  2.18146718e+00,\n",
       "         3.78500000e+01, -1.22250000e+02]])"
      ]
     },
     "execution_count": 3,
     "metadata": {},
     "output_type": "execute_result"
    }
   ],
   "source": [
    "california.data[:5]"
   ]
  },
  {
   "cell_type": "code",
   "execution_count": 4,
   "id": "819d2073",
   "metadata": {},
   "outputs": [
    {
     "data": {
      "text/plain": [
       "['MedInc',\n",
       " 'HouseAge',\n",
       " 'AveRooms',\n",
       " 'AveBedrms',\n",
       " 'Population',\n",
       " 'AveOccup',\n",
       " 'Latitude',\n",
       " 'Longitude']"
      ]
     },
     "execution_count": 4,
     "metadata": {},
     "output_type": "execute_result"
    }
   ],
   "source": [
    "california.feature_names"
   ]
  },
  {
   "cell_type": "code",
   "execution_count": 5,
   "id": "080f6919",
   "metadata": {},
   "outputs": [
    {
     "data": {
      "text/plain": [
       "['MedHouseVal']"
      ]
     },
     "execution_count": 5,
     "metadata": {},
     "output_type": "execute_result"
    }
   ],
   "source": [
    "california.target_names"
   ]
  },
  {
   "cell_type": "code",
   "execution_count": 6,
   "id": "9f355f50",
   "metadata": {},
   "outputs": [],
   "source": [
    "df = pd.DataFrame(california.data)"
   ]
  },
  {
   "cell_type": "code",
   "execution_count": 7,
   "id": "2261aba9",
   "metadata": {},
   "outputs": [],
   "source": [
    "df.columns = california.feature_names"
   ]
  },
  {
   "cell_type": "code",
   "execution_count": 8,
   "id": "17cb6776",
   "metadata": {},
   "outputs": [],
   "source": [
    "df['MedHouseVal'] = california.target "
   ]
  },
  {
   "cell_type": "code",
   "execution_count": 9,
   "id": "432ab71b",
   "metadata": {},
   "outputs": [
    {
     "data": {
      "text/html": [
       "<div>\n",
       "<style scoped>\n",
       "    .dataframe tbody tr th:only-of-type {\n",
       "        vertical-align: middle;\n",
       "    }\n",
       "\n",
       "    .dataframe tbody tr th {\n",
       "        vertical-align: top;\n",
       "    }\n",
       "\n",
       "    .dataframe thead th {\n",
       "        text-align: right;\n",
       "    }\n",
       "</style>\n",
       "<table border=\"1\" class=\"dataframe\">\n",
       "  <thead>\n",
       "    <tr style=\"text-align: right;\">\n",
       "      <th></th>\n",
       "      <th>MedInc</th>\n",
       "      <th>HouseAge</th>\n",
       "      <th>AveRooms</th>\n",
       "      <th>AveBedrms</th>\n",
       "      <th>Population</th>\n",
       "      <th>AveOccup</th>\n",
       "      <th>Latitude</th>\n",
       "      <th>Longitude</th>\n",
       "      <th>MedHouseVal</th>\n",
       "    </tr>\n",
       "  </thead>\n",
       "  <tbody>\n",
       "    <tr>\n",
       "      <th>0</th>\n",
       "      <td>8.3252</td>\n",
       "      <td>41.0</td>\n",
       "      <td>6.984127</td>\n",
       "      <td>1.023810</td>\n",
       "      <td>322.0</td>\n",
       "      <td>2.555556</td>\n",
       "      <td>37.88</td>\n",
       "      <td>-122.23</td>\n",
       "      <td>4.526</td>\n",
       "    </tr>\n",
       "    <tr>\n",
       "      <th>1</th>\n",
       "      <td>8.3014</td>\n",
       "      <td>21.0</td>\n",
       "      <td>6.238137</td>\n",
       "      <td>0.971880</td>\n",
       "      <td>2401.0</td>\n",
       "      <td>2.109842</td>\n",
       "      <td>37.86</td>\n",
       "      <td>-122.22</td>\n",
       "      <td>3.585</td>\n",
       "    </tr>\n",
       "    <tr>\n",
       "      <th>2</th>\n",
       "      <td>7.2574</td>\n",
       "      <td>52.0</td>\n",
       "      <td>8.288136</td>\n",
       "      <td>1.073446</td>\n",
       "      <td>496.0</td>\n",
       "      <td>2.802260</td>\n",
       "      <td>37.85</td>\n",
       "      <td>-122.24</td>\n",
       "      <td>3.521</td>\n",
       "    </tr>\n",
       "    <tr>\n",
       "      <th>3</th>\n",
       "      <td>5.6431</td>\n",
       "      <td>52.0</td>\n",
       "      <td>5.817352</td>\n",
       "      <td>1.073059</td>\n",
       "      <td>558.0</td>\n",
       "      <td>2.547945</td>\n",
       "      <td>37.85</td>\n",
       "      <td>-122.25</td>\n",
       "      <td>3.413</td>\n",
       "    </tr>\n",
       "    <tr>\n",
       "      <th>4</th>\n",
       "      <td>3.8462</td>\n",
       "      <td>52.0</td>\n",
       "      <td>6.281853</td>\n",
       "      <td>1.081081</td>\n",
       "      <td>565.0</td>\n",
       "      <td>2.181467</td>\n",
       "      <td>37.85</td>\n",
       "      <td>-122.25</td>\n",
       "      <td>3.422</td>\n",
       "    </tr>\n",
       "    <tr>\n",
       "      <th>...</th>\n",
       "      <td>...</td>\n",
       "      <td>...</td>\n",
       "      <td>...</td>\n",
       "      <td>...</td>\n",
       "      <td>...</td>\n",
       "      <td>...</td>\n",
       "      <td>...</td>\n",
       "      <td>...</td>\n",
       "      <td>...</td>\n",
       "    </tr>\n",
       "    <tr>\n",
       "      <th>20635</th>\n",
       "      <td>1.5603</td>\n",
       "      <td>25.0</td>\n",
       "      <td>5.045455</td>\n",
       "      <td>1.133333</td>\n",
       "      <td>845.0</td>\n",
       "      <td>2.560606</td>\n",
       "      <td>39.48</td>\n",
       "      <td>-121.09</td>\n",
       "      <td>0.781</td>\n",
       "    </tr>\n",
       "    <tr>\n",
       "      <th>20636</th>\n",
       "      <td>2.5568</td>\n",
       "      <td>18.0</td>\n",
       "      <td>6.114035</td>\n",
       "      <td>1.315789</td>\n",
       "      <td>356.0</td>\n",
       "      <td>3.122807</td>\n",
       "      <td>39.49</td>\n",
       "      <td>-121.21</td>\n",
       "      <td>0.771</td>\n",
       "    </tr>\n",
       "    <tr>\n",
       "      <th>20637</th>\n",
       "      <td>1.7000</td>\n",
       "      <td>17.0</td>\n",
       "      <td>5.205543</td>\n",
       "      <td>1.120092</td>\n",
       "      <td>1007.0</td>\n",
       "      <td>2.325635</td>\n",
       "      <td>39.43</td>\n",
       "      <td>-121.22</td>\n",
       "      <td>0.923</td>\n",
       "    </tr>\n",
       "    <tr>\n",
       "      <th>20638</th>\n",
       "      <td>1.8672</td>\n",
       "      <td>18.0</td>\n",
       "      <td>5.329513</td>\n",
       "      <td>1.171920</td>\n",
       "      <td>741.0</td>\n",
       "      <td>2.123209</td>\n",
       "      <td>39.43</td>\n",
       "      <td>-121.32</td>\n",
       "      <td>0.847</td>\n",
       "    </tr>\n",
       "    <tr>\n",
       "      <th>20639</th>\n",
       "      <td>2.3886</td>\n",
       "      <td>16.0</td>\n",
       "      <td>5.254717</td>\n",
       "      <td>1.162264</td>\n",
       "      <td>1387.0</td>\n",
       "      <td>2.616981</td>\n",
       "      <td>39.37</td>\n",
       "      <td>-121.24</td>\n",
       "      <td>0.894</td>\n",
       "    </tr>\n",
       "  </tbody>\n",
       "</table>\n",
       "<p>20640 rows × 9 columns</p>\n",
       "</div>"
      ],
      "text/plain": [
       "       MedInc  HouseAge  AveRooms  AveBedrms  Population  AveOccup  Latitude  \\\n",
       "0      8.3252      41.0  6.984127   1.023810       322.0  2.555556     37.88   \n",
       "1      8.3014      21.0  6.238137   0.971880      2401.0  2.109842     37.86   \n",
       "2      7.2574      52.0  8.288136   1.073446       496.0  2.802260     37.85   \n",
       "3      5.6431      52.0  5.817352   1.073059       558.0  2.547945     37.85   \n",
       "4      3.8462      52.0  6.281853   1.081081       565.0  2.181467     37.85   \n",
       "...       ...       ...       ...        ...         ...       ...       ...   \n",
       "20635  1.5603      25.0  5.045455   1.133333       845.0  2.560606     39.48   \n",
       "20636  2.5568      18.0  6.114035   1.315789       356.0  3.122807     39.49   \n",
       "20637  1.7000      17.0  5.205543   1.120092      1007.0  2.325635     39.43   \n",
       "20638  1.8672      18.0  5.329513   1.171920       741.0  2.123209     39.43   \n",
       "20639  2.3886      16.0  5.254717   1.162264      1387.0  2.616981     39.37   \n",
       "\n",
       "       Longitude  MedHouseVal  \n",
       "0        -122.23        4.526  \n",
       "1        -122.22        3.585  \n",
       "2        -122.24        3.521  \n",
       "3        -122.25        3.413  \n",
       "4        -122.25        3.422  \n",
       "...          ...          ...  \n",
       "20635    -121.09        0.781  \n",
       "20636    -121.21        0.771  \n",
       "20637    -121.22        0.923  \n",
       "20638    -121.32        0.847  \n",
       "20639    -121.24        0.894  \n",
       "\n",
       "[20640 rows x 9 columns]"
      ]
     },
     "execution_count": 9,
     "metadata": {},
     "output_type": "execute_result"
    }
   ],
   "source": [
    "df "
   ]
  },
  {
   "cell_type": "code",
   "execution_count": 10,
   "id": "81625d6b",
   "metadata": {},
   "outputs": [],
   "source": [
    "X = pd.DataFrame(california.data, columns=california.feature_names)\n",
    "y = pd.DataFrame(california.target, columns=[\"Median_House_Value\"])\n"
   ]
  },
  {
   "cell_type": "code",
   "execution_count": 11,
   "id": "b3ffe76a",
   "metadata": {},
   "outputs": [],
   "source": [
    "X_train, X_test, y_train, y_test = train_test_split(X, y, test_size=0.2, random_state=42)\n"
   ]
  },
  {
   "cell_type": "code",
   "execution_count": 12,
   "id": "d1bcfd14",
   "metadata": {},
   "outputs": [],
   "source": [
    "scaler = StandardScaler()\n",
    "X_train_scaled = scaler.fit_transform(X_train)\n",
    "X_test_scaled = scaler.transform(X_test)"
   ]
  },
  {
   "cell_type": "code",
   "execution_count": 13,
   "id": "c68a66f7",
   "metadata": {},
   "outputs": [],
   "source": [
    "from sklearn.ensemble import RandomForestRegressor\n",
    "from sklearn.metrics import mean_absolute_error, mean_squared_error, r2_score\n"
   ]
  },
  {
   "cell_type": "code",
   "execution_count": 14,
   "id": "7300c3e5",
   "metadata": {},
   "outputs": [
    {
     "data": {
      "text/html": [
       "<style>#sk-container-id-1 {color: black;}#sk-container-id-1 pre{padding: 0;}#sk-container-id-1 div.sk-toggleable {background-color: white;}#sk-container-id-1 label.sk-toggleable__label {cursor: pointer;display: block;width: 100%;margin-bottom: 0;padding: 0.3em;box-sizing: border-box;text-align: center;}#sk-container-id-1 label.sk-toggleable__label-arrow:before {content: \"▸\";float: left;margin-right: 0.25em;color: #696969;}#sk-container-id-1 label.sk-toggleable__label-arrow:hover:before {color: black;}#sk-container-id-1 div.sk-estimator:hover label.sk-toggleable__label-arrow:before {color: black;}#sk-container-id-1 div.sk-toggleable__content {max-height: 0;max-width: 0;overflow: hidden;text-align: left;background-color: #f0f8ff;}#sk-container-id-1 div.sk-toggleable__content pre {margin: 0.2em;color: black;border-radius: 0.25em;background-color: #f0f8ff;}#sk-container-id-1 input.sk-toggleable__control:checked~div.sk-toggleable__content {max-height: 200px;max-width: 100%;overflow: auto;}#sk-container-id-1 input.sk-toggleable__control:checked~label.sk-toggleable__label-arrow:before {content: \"▾\";}#sk-container-id-1 div.sk-estimator input.sk-toggleable__control:checked~label.sk-toggleable__label {background-color: #d4ebff;}#sk-container-id-1 div.sk-label input.sk-toggleable__control:checked~label.sk-toggleable__label {background-color: #d4ebff;}#sk-container-id-1 input.sk-hidden--visually {border: 0;clip: rect(1px 1px 1px 1px);clip: rect(1px, 1px, 1px, 1px);height: 1px;margin: -1px;overflow: hidden;padding: 0;position: absolute;width: 1px;}#sk-container-id-1 div.sk-estimator {font-family: monospace;background-color: #f0f8ff;border: 1px dotted black;border-radius: 0.25em;box-sizing: border-box;margin-bottom: 0.5em;}#sk-container-id-1 div.sk-estimator:hover {background-color: #d4ebff;}#sk-container-id-1 div.sk-parallel-item::after {content: \"\";width: 100%;border-bottom: 1px solid gray;flex-grow: 1;}#sk-container-id-1 div.sk-label:hover label.sk-toggleable__label {background-color: #d4ebff;}#sk-container-id-1 div.sk-serial::before {content: \"\";position: absolute;border-left: 1px solid gray;box-sizing: border-box;top: 0;bottom: 0;left: 50%;z-index: 0;}#sk-container-id-1 div.sk-serial {display: flex;flex-direction: column;align-items: center;background-color: white;padding-right: 0.2em;padding-left: 0.2em;position: relative;}#sk-container-id-1 div.sk-item {position: relative;z-index: 1;}#sk-container-id-1 div.sk-parallel {display: flex;align-items: stretch;justify-content: center;background-color: white;position: relative;}#sk-container-id-1 div.sk-item::before, #sk-container-id-1 div.sk-parallel-item::before {content: \"\";position: absolute;border-left: 1px solid gray;box-sizing: border-box;top: 0;bottom: 0;left: 50%;z-index: -1;}#sk-container-id-1 div.sk-parallel-item {display: flex;flex-direction: column;z-index: 1;position: relative;background-color: white;}#sk-container-id-1 div.sk-parallel-item:first-child::after {align-self: flex-end;width: 50%;}#sk-container-id-1 div.sk-parallel-item:last-child::after {align-self: flex-start;width: 50%;}#sk-container-id-1 div.sk-parallel-item:only-child::after {width: 0;}#sk-container-id-1 div.sk-dashed-wrapped {border: 1px dashed gray;margin: 0 0.4em 0.5em 0.4em;box-sizing: border-box;padding-bottom: 0.4em;background-color: white;}#sk-container-id-1 div.sk-label label {font-family: monospace;font-weight: bold;display: inline-block;line-height: 1.2em;}#sk-container-id-1 div.sk-label-container {text-align: center;}#sk-container-id-1 div.sk-container {/* jupyter's `normalize.less` sets `[hidden] { display: none; }` but bootstrap.min.css set `[hidden] { display: none !important; }` so we also need the `!important` here to be able to override the default hidden behavior on the sphinx rendered scikit-learn.org. See: https://github.com/scikit-learn/scikit-learn/issues/21755 */display: inline-block !important;position: relative;}#sk-container-id-1 div.sk-text-repr-fallback {display: none;}</style><div id=\"sk-container-id-1\" class=\"sk-top-container\"><div class=\"sk-text-repr-fallback\"><pre>RandomForestRegressor(random_state=42)</pre><b>In a Jupyter environment, please rerun this cell to show the HTML representation or trust the notebook. <br />On GitHub, the HTML representation is unable to render, please try loading this page with nbviewer.org.</b></div><div class=\"sk-container\" hidden><div class=\"sk-item\"><div class=\"sk-estimator sk-toggleable\"><input class=\"sk-toggleable__control sk-hidden--visually\" id=\"sk-estimator-id-1\" type=\"checkbox\" checked><label for=\"sk-estimator-id-1\" class=\"sk-toggleable__label sk-toggleable__label-arrow\">RandomForestRegressor</label><div class=\"sk-toggleable__content\"><pre>RandomForestRegressor(random_state=42)</pre></div></div></div></div></div>"
      ],
      "text/plain": [
       "RandomForestRegressor(random_state=42)"
      ]
     },
     "execution_count": 14,
     "metadata": {},
     "output_type": "execute_result"
    }
   ],
   "source": [
    "rf_model = RandomForestRegressor(n_estimators=100, random_state=42)\n",
    "rf_model.fit(X_train_scaled, y_train.values.ravel())\n"
   ]
  },
  {
   "cell_type": "code",
   "execution_count": 15,
   "id": "993c2579",
   "metadata": {},
   "outputs": [
    {
     "data": {
      "text/plain": [
       "(16512, 1)"
      ]
     },
     "execution_count": 15,
     "metadata": {},
     "output_type": "execute_result"
    }
   ],
   "source": [
    "y_train.values.shape"
   ]
  },
  {
   "cell_type": "code",
   "execution_count": 16,
   "id": "454061e5",
   "metadata": {},
   "outputs": [],
   "source": [
    "y_pred_rf = rf_model.predict(X_test_scaled)"
   ]
  },
  {
   "cell_type": "code",
   "execution_count": 17,
   "id": "51b0de12",
   "metadata": {},
   "outputs": [
    {
     "name": "stdout",
     "output_type": "stream",
     "text": [
      "Random Forest Regression Metrics:\n",
      "MAE: 0.3274252027374032\n",
      "MSE: 0.255169737347244\n",
      "R2 Score: 0.8052747336256919\n"
     ]
    }
   ],
   "source": [
    "print(\"Random Forest Regression Metrics:\")\n",
    "print(f\"MAE: {mean_absolute_error(y_test, y_pred_rf)}\")\n",
    "print(f\"MSE: {mean_squared_error(y_test, y_pred_rf)}\")\n",
    "print(f\"R2 Score: {r2_score(y_test, y_pred_rf)}\")"
   ]
  },
  {
   "cell_type": "code",
   "execution_count": 18,
   "id": "02aec7ad",
   "metadata": {},
   "outputs": [],
   "source": [
    "with open(\"random_forest_model.pkl\", \"wb\") as f:\n",
    "    pickle.dump(rf_model, f)"
   ]
  },
  {
   "cell_type": "code",
   "execution_count": 19,
   "id": "abfbc6b1",
   "metadata": {},
   "outputs": [],
   "source": [
    "import tensorflow as tf\n",
    "from tensorflow import keras\n",
    "\n",
    "# Build the model\n",
    "dl_model = keras.Sequential([\n",
    "    keras.layers.Dense(64, activation=\"relu\", input_shape=(X_train_scaled.shape[1],)),\n",
    "    keras.layers.Dense(32, activation=\"relu\"),\n",
    "    keras.layers.Dense(16, activation=\"relu\"),\n",
    "    keras.layers.Dense(1)  # Output layer for regression\n",
    "])"
   ]
  },
  {
   "cell_type": "code",
   "execution_count": 20,
   "id": "f2e6d9ea",
   "metadata": {},
   "outputs": [],
   "source": [
    "dl_model.compile(optimizer=\"adam\", loss=\"mse\", metrics=[\"mae\"])"
   ]
  },
  {
   "cell_type": "code",
   "execution_count": 21,
   "id": "c294ed68",
   "metadata": {
    "scrolled": true
   },
   "outputs": [
    {
     "name": "stdout",
     "output_type": "stream",
     "text": [
      "Epoch 1/50\n",
      "516/516 [==============================] - 1s 2ms/step - loss: 0.7464 - mae: 0.5901 - val_loss: 0.4045 - val_mae: 0.4512\n",
      "Epoch 2/50\n",
      "516/516 [==============================] - 1s 1ms/step - loss: 0.3790 - mae: 0.4371 - val_loss: 0.3718 - val_mae: 0.4247\n",
      "Epoch 3/50\n",
      "516/516 [==============================] - 1s 1ms/step - loss: 0.3559 - mae: 0.4215 - val_loss: 0.3823 - val_mae: 0.4144\n",
      "Epoch 4/50\n",
      "516/516 [==============================] - 1s 1ms/step - loss: 0.3380 - mae: 0.4097 - val_loss: 0.3380 - val_mae: 0.4027\n",
      "Epoch 5/50\n",
      "516/516 [==============================] - 1s 1ms/step - loss: 0.3232 - mae: 0.3983 - val_loss: 0.3314 - val_mae: 0.4032\n",
      "Epoch 6/50\n",
      "516/516 [==============================] - 1s 1ms/step - loss: 0.3172 - mae: 0.3928 - val_loss: 0.3154 - val_mae: 0.3892\n",
      "Epoch 7/50\n",
      "516/516 [==============================] - 1s 1ms/step - loss: 0.3080 - mae: 0.3878 - val_loss: 0.3093 - val_mae: 0.3811\n",
      "Epoch 8/50\n",
      "516/516 [==============================] - 1s 1ms/step - loss: 0.3015 - mae: 0.3821 - val_loss: 0.3177 - val_mae: 0.3871\n",
      "Epoch 9/50\n",
      "516/516 [==============================] - 1s 1ms/step - loss: 0.2966 - mae: 0.3798 - val_loss: 0.3281 - val_mae: 0.3852\n",
      "Epoch 10/50\n",
      "516/516 [==============================] - 1s 1ms/step - loss: 0.2924 - mae: 0.3752 - val_loss: 0.3034 - val_mae: 0.3823\n",
      "Epoch 11/50\n",
      "516/516 [==============================] - 1s 1ms/step - loss: 0.2924 - mae: 0.3757 - val_loss: 0.3183 - val_mae: 0.3773\n",
      "Epoch 12/50\n",
      "516/516 [==============================] - 1s 1ms/step - loss: 0.2858 - mae: 0.3711 - val_loss: 0.2979 - val_mae: 0.3721\n",
      "Epoch 13/50\n",
      "516/516 [==============================] - 1s 1ms/step - loss: 0.2839 - mae: 0.3684 - val_loss: 0.3044 - val_mae: 0.3769\n",
      "Epoch 14/50\n",
      "516/516 [==============================] - 1s 1ms/step - loss: 0.2832 - mae: 0.3665 - val_loss: 0.2925 - val_mae: 0.3709\n",
      "Epoch 15/50\n",
      "516/516 [==============================] - 1s 1ms/step - loss: 0.2791 - mae: 0.3649 - val_loss: 0.2892 - val_mae: 0.3690\n",
      "Epoch 16/50\n",
      "516/516 [==============================] - 1s 1ms/step - loss: 0.2762 - mae: 0.3625 - val_loss: 0.2918 - val_mae: 0.3634\n",
      "Epoch 17/50\n",
      "516/516 [==============================] - 1s 1ms/step - loss: 0.2759 - mae: 0.3620 - val_loss: 0.2913 - val_mae: 0.3705\n",
      "Epoch 18/50\n",
      "516/516 [==============================] - 1s 1ms/step - loss: 0.2737 - mae: 0.3596 - val_loss: 0.2973 - val_mae: 0.3882\n",
      "Epoch 19/50\n",
      "516/516 [==============================] - 1s 1ms/step - loss: 0.2695 - mae: 0.3569 - val_loss: 0.2985 - val_mae: 0.3804\n",
      "Epoch 20/50\n",
      "516/516 [==============================] - 1s 1ms/step - loss: 0.2687 - mae: 0.3574 - val_loss: 0.2870 - val_mae: 0.3758\n",
      "Epoch 21/50\n",
      "516/516 [==============================] - 1s 1ms/step - loss: 0.2675 - mae: 0.3561 - val_loss: 0.2874 - val_mae: 0.3782\n",
      "Epoch 22/50\n",
      "516/516 [==============================] - 1s 1ms/step - loss: 0.2670 - mae: 0.3551 - val_loss: 0.2822 - val_mae: 0.3626\n",
      "Epoch 23/50\n",
      "516/516 [==============================] - 1s 1ms/step - loss: 0.2643 - mae: 0.3529 - val_loss: 0.2843 - val_mae: 0.3648\n",
      "Epoch 24/50\n",
      "516/516 [==============================] - 1s 1ms/step - loss: 0.2632 - mae: 0.3523 - val_loss: 0.2847 - val_mae: 0.3693\n",
      "Epoch 25/50\n",
      "516/516 [==============================] - 1s 1ms/step - loss: 0.2637 - mae: 0.3539 - val_loss: 0.3037 - val_mae: 0.3917\n",
      "Epoch 26/50\n",
      "516/516 [==============================] - 1s 1ms/step - loss: 0.2601 - mae: 0.3503 - val_loss: 0.2922 - val_mae: 0.3623\n",
      "Epoch 27/50\n",
      "516/516 [==============================] - 1s 1ms/step - loss: 0.2586 - mae: 0.3491 - val_loss: 0.2850 - val_mae: 0.3582\n",
      "Epoch 28/50\n",
      "516/516 [==============================] - 1s 1ms/step - loss: 0.2567 - mae: 0.3475 - val_loss: 0.2805 - val_mae: 0.3565\n",
      "Epoch 29/50\n",
      "516/516 [==============================] - 1s 1ms/step - loss: 0.2588 - mae: 0.3487 - val_loss: 0.2879 - val_mae: 0.3698\n",
      "Epoch 30/50\n",
      "516/516 [==============================] - 1s 1ms/step - loss: 0.2560 - mae: 0.3460 - val_loss: 0.2841 - val_mae: 0.3645\n",
      "Epoch 31/50\n",
      "516/516 [==============================] - 1s 1ms/step - loss: 0.2545 - mae: 0.3458 - val_loss: 0.2907 - val_mae: 0.3599\n",
      "Epoch 32/50\n",
      "516/516 [==============================] - 1s 1ms/step - loss: 0.2543 - mae: 0.3458 - val_loss: 0.2910 - val_mae: 0.3778\n",
      "Epoch 33/50\n",
      "516/516 [==============================] - 1s 1ms/step - loss: 0.2552 - mae: 0.3449 - val_loss: 0.2777 - val_mae: 0.3545\n",
      "Epoch 34/50\n",
      "516/516 [==============================] - 1s 1ms/step - loss: 0.2514 - mae: 0.3430 - val_loss: 0.2798 - val_mae: 0.3663\n",
      "Epoch 35/50\n",
      "516/516 [==============================] - 1s 1ms/step - loss: 0.2505 - mae: 0.3425 - val_loss: 0.2804 - val_mae: 0.3639\n",
      "Epoch 36/50\n",
      "516/516 [==============================] - 1s 1ms/step - loss: 0.2480 - mae: 0.3401 - val_loss: 0.2809 - val_mae: 0.3688\n",
      "Epoch 37/50\n",
      "516/516 [==============================] - 1s 1ms/step - loss: 0.2492 - mae: 0.3413 - val_loss: 0.2808 - val_mae: 0.3680\n",
      "Epoch 38/50\n",
      "516/516 [==============================] - 1s 1ms/step - loss: 0.2461 - mae: 0.3386 - val_loss: 0.2757 - val_mae: 0.3595\n",
      "Epoch 39/50\n",
      "516/516 [==============================] - 1s 1ms/step - loss: 0.2454 - mae: 0.3383 - val_loss: 0.2961 - val_mae: 0.3622\n",
      "Epoch 40/50\n",
      "516/516 [==============================] - 1s 1ms/step - loss: 0.2438 - mae: 0.3370 - val_loss: 0.2788 - val_mae: 0.3676\n",
      "Epoch 41/50\n",
      "516/516 [==============================] - 1s 1ms/step - loss: 0.2442 - mae: 0.3382 - val_loss: 0.2812 - val_mae: 0.3583\n",
      "Epoch 42/50\n",
      "516/516 [==============================] - 1s 1ms/step - loss: 0.2428 - mae: 0.3362 - val_loss: 0.2736 - val_mae: 0.3589\n",
      "Epoch 43/50\n",
      "516/516 [==============================] - 1s 1ms/step - loss: 0.2415 - mae: 0.3344 - val_loss: 0.2793 - val_mae: 0.3584\n",
      "Epoch 44/50\n",
      "516/516 [==============================] - 1s 1ms/step - loss: 0.2416 - mae: 0.3345 - val_loss: 0.2711 - val_mae: 0.3487\n",
      "Epoch 45/50\n",
      "516/516 [==============================] - 1s 1ms/step - loss: 0.2409 - mae: 0.3340 - val_loss: 0.2752 - val_mae: 0.3472\n",
      "Epoch 46/50\n",
      "516/516 [==============================] - 1s 1ms/step - loss: 0.2409 - mae: 0.3334 - val_loss: 0.2821 - val_mae: 0.3681\n",
      "Epoch 47/50\n",
      "516/516 [==============================] - 1s 1ms/step - loss: 0.2372 - mae: 0.3317 - val_loss: 0.2659 - val_mae: 0.3472\n",
      "Epoch 48/50\n",
      "516/516 [==============================] - 1s 2ms/step - loss: 0.2396 - mae: 0.3324 - val_loss: 0.2699 - val_mae: 0.3436\n",
      "Epoch 49/50\n",
      "516/516 [==============================] - 1s 1ms/step - loss: 0.2362 - mae: 0.3296 - val_loss: 0.2729 - val_mae: 0.3517\n",
      "Epoch 50/50\n",
      "516/516 [==============================] - 1s 1ms/step - loss: 0.2360 - mae: 0.3297 - val_loss: 0.2775 - val_mae: 0.3691\n"
     ]
    },
    {
     "data": {
      "text/plain": [
       "<keras.src.callbacks.History at 0x1a35809db50>"
      ]
     },
     "execution_count": 21,
     "metadata": {},
     "output_type": "execute_result"
    }
   ],
   "source": [
    "dl_model.fit(X_train_scaled, y_train, validation_data=(X_test_scaled, y_test), epochs=50, batch_size=00)\n"
   ]
  },
  {
   "cell_type": "code",
   "execution_count": 22,
   "id": "f9f78a0a",
   "metadata": {},
   "outputs": [
    {
     "name": "stderr",
     "output_type": "stream",
     "text": [
      "C:\\Users\\1034590\\AppData\\Roaming\\Python\\Python311\\site-packages\\keras\\src\\engine\\training.py:3079: UserWarning: You are saving your model as an HDF5 file via `model.save()`. This file format is considered legacy. We recommend using instead the native Keras format, e.g. `model.save('my_model.keras')`.\n",
      "  saving_api.save_model(\n"
     ]
    }
   ],
   "source": [
    "dl_model.save(\"deep_learning_model.h5\")\n"
   ]
  },
  {
   "cell_type": "code",
   "execution_count": 23,
   "id": "9357fc6a",
   "metadata": {},
   "outputs": [
    {
     "name": "stdout",
     "output_type": "stream",
     "text": [
      "Loaded RF Model R2 Score: 0.8052747336256919\n"
     ]
    }
   ],
   "source": [
    "with open(\"random_forest_model.pkl\", \"rb\") as f:\n",
    "    loaded_rf_model = pickle.load(f)\n",
    "\n",
    "\n",
    "y_pred_loaded_rf = loaded_rf_model.predict(X_test_scaled)\n",
    "print(f\"Loaded RF Model R2 Score: {r2_score(y_test, y_pred_loaded_rf)}\")\n",
    "\n"
   ]
  },
  {
   "cell_type": "code",
   "execution_count": 24,
   "id": "eb460bc0",
   "metadata": {},
   "outputs": [
    {
     "name": "stdout",
     "output_type": "stream",
     "text": [
      "129/129 [==============================] - 0s 891us/step\n",
      "Loaded DL Model MSE: 0.7882409236865926\n"
     ]
    }
   ],
   "source": [
    "loaded_dl_model = keras.models.load_model(\"deep_learning_model.h5\")\n",
    "\n",
    "\n",
    "y_pred_loaded_dl = loaded_dl_model.predict(X_test_scaled)\n",
    "print(f\"Loaded DL Model MSE: {r2_score(y_test, y_pred_loaded_dl)}\")"
   ]
  },
  {
   "cell_type": "code",
   "execution_count": null,
   "id": "7e660c48",
   "metadata": {},
   "outputs": [],
   "source": []
  }
 ],
 "metadata": {
  "kernelspec": {
   "display_name": "Python 3 (ipykernel)",
   "language": "python",
   "name": "python3"
  },
  "language_info": {
   "codemirror_mode": {
    "name": "ipython",
    "version": 3
   },
   "file_extension": ".py",
   "mimetype": "text/x-python",
   "name": "python",
   "nbconvert_exporter": "python",
   "pygments_lexer": "ipython3",
   "version": "3.11.5"
  },
  "varInspector": {
   "cols": {
    "lenName": 16,
    "lenType": 16,
    "lenVar": 40
   },
   "kernels_config": {
    "python": {
     "delete_cmd_postfix": "",
     "delete_cmd_prefix": "del ",
     "library": "var_list.py",
     "varRefreshCmd": "print(var_dic_list())"
    },
    "r": {
     "delete_cmd_postfix": ") ",
     "delete_cmd_prefix": "rm(",
     "library": "var_list.r",
     "varRefreshCmd": "cat(var_dic_list()) "
    }
   },
   "types_to_exclude": [
    "module",
    "function",
    "builtin_function_or_method",
    "instance",
    "_Feature"
   ],
   "window_display": false
  }
 },
 "nbformat": 4,
 "nbformat_minor": 5
}
