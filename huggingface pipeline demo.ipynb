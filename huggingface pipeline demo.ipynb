{
 "cells": [
  {
   "cell_type": "markdown",
   "id": "4035ada1",
   "metadata": {},
   "source": [
    "## Using pipelines"
   ]
  },
  {
   "cell_type": "code",
   "execution_count": null,
   "id": "6785b304",
   "metadata": {},
   "outputs": [],
   "source": [
    "from transformers import pipeline"
   ]
  },
  {
   "cell_type": "code",
   "execution_count": null,
   "id": "67636e48",
   "metadata": {},
   "outputs": [],
   "source": [
    "sentiment_pipeline = pipeline(\"sentiment-analysis\", framework=\"tf\")\n"
   ]
  },
  {
   "cell_type": "code",
   "execution_count": null,
   "id": "73a35b77",
   "metadata": {},
   "outputs": [],
   "source": [
    "result = sentiment_pipeline([\"I love my college!\",'I hate people opinion about AI'])\n",
    "print(result)\n"
   ]
  },
  {
   "cell_type": "markdown",
   "id": "0960d0c0",
   "metadata": {},
   "source": [
    "piplines options - https://huggingface.co/docs/transformers/en/main_classes/pipelines"
   ]
  },
  {
   "cell_type": "markdown",
   "id": "30f554e1",
   "metadata": {},
   "source": [
    "Changing the default model "
   ]
  },
  {
   "cell_type": "code",
   "execution_count": null,
   "id": "1a57db17",
   "metadata": {},
   "outputs": [],
   "source": [
    "sentiment_pipeline2 = pipeline(\"sentiment-analysis\", model=<model_from_hugging_face>, framework=\"tf\")\n"
   ]
  },
  {
   "cell_type": "markdown",
   "id": "70f926f2",
   "metadata": {},
   "source": [
    "## What if there is no pipeline and i want to use a different tokenizer and model "
   ]
  },
  {
   "cell_type": "code",
   "execution_count": null,
   "id": "0c595343",
   "metadata": {},
   "outputs": [],
   "source": [
    "from transformers import BertTokenizer, TFAutoModelForSequenceClassification\n",
    "import tensorflow as tf"
   ]
  },
  {
   "cell_type": "code",
   "execution_count": null,
   "id": "90e47af9",
   "metadata": {},
   "outputs": [],
   "source": [
    "tokenizer = BertTokenizer.from_pretrained(\"bert-base-uncased\")"
   ]
  },
  {
   "cell_type": "code",
   "execution_count": null,
   "id": "27a43b59",
   "metadata": {},
   "outputs": [],
   "source": [
    "model = TFAutoModelForSequenceClassification.from_pretrained(\"bert-base-multilingual-cased\")\n"
   ]
  },
  {
   "cell_type": "code",
   "execution_count": null,
   "id": "46f18d5c",
   "metadata": {},
   "outputs": [],
   "source": [
    "text = \"I love learning about NLP!\""
   ]
  },
  {
   "cell_type": "code",
   "execution_count": null,
   "id": "cbc81c7d",
   "metadata": {},
   "outputs": [],
   "source": [
    "print(\"Tokenized Words:\", tokenizer.tokenize(text))\n",
    "print(\"Token IDs:\", tokens[\"input_ids\"].numpy().tolist()[0])"
   ]
  },
  {
   "cell_type": "code",
   "execution_count": null,
   "id": "2e18bc92",
   "metadata": {},
   "outputs": [],
   "source": [
    "outputs = model(**tokens)\n"
   ]
  },
  {
   "cell_type": "code",
   "execution_count": null,
   "id": "9c91cde1",
   "metadata": {},
   "outputs": [],
   "source": [
    "logits = outputs.logits\n",
    "probs = tf.nn.softmax(logits, axis=-1)"
   ]
  },
  {
   "cell_type": "code",
   "execution_count": null,
   "id": "050093ab",
   "metadata": {},
   "outputs": [],
   "source": [
    "label_idx = tf.argmax(probs, axis=-1).numpy()[0]\n",
    "labels = [\"NEGATIVE\", \"POSITIVE\"]\n",
    "print(f\"Predicted Sentiment: {labels[label_idx]}, Probability: {probs.numpy().max():.4f}\")"
   ]
  },
  {
   "cell_type": "code",
   "execution_count": 5,
   "id": "d79230b7",
   "metadata": {},
   "outputs": [],
   "source": []
  },
  {
   "cell_type": "markdown",
   "id": "cfd75ce9",
   "metadata": {},
   "source": [
    "## Other examples of pipelines"
   ]
  },
  {
   "cell_type": "code",
   "execution_count": null,
   "id": "30230be4",
   "metadata": {},
   "outputs": [],
   "source": [
    "generator = pipeline(\"text-generation\", model=\"gpt2\")\n",
    "\n",
    "prompt = \"There once lived a king\"\n",
    "result = generator(prompt, max_length=30, num_return_sequences=1)\n",
    "\n",
    "print(result)\n"
   ]
  },
  {
   "cell_type": "code",
   "execution_count": null,
   "id": "26195cb2",
   "metadata": {},
   "outputs": [],
   "source": [
    "qa_pipeline = pipeline(\"question-answering\")\n",
    "\n",
    "context = \"\"\"The Great Wall of China is a historic fortification that stretches \n",
    "over 13,000 miles. It was primarily built to protect against invasions and \n",
    "was constructed during the Ming Dynasty.\"\"\"\n",
    "\n",
    "question = \"Who built the Great Wall of China?\"\n",
    "\n",
    "result = qa_pipeline(question=question, context=context)\n",
    "\n",
    "print(result)\n"
   ]
  }
 ],
 "metadata": {
  "kernelspec": {
   "display_name": "Python 3 (ipykernel)",
   "language": "python",
   "name": "python3"
  },
  "language_info": {
   "codemirror_mode": {
    "name": "ipython",
    "version": 3
   },
   "file_extension": ".py",
   "mimetype": "text/x-python",
   "name": "python",
   "nbconvert_exporter": "python",
   "pygments_lexer": "ipython3",
   "version": "3.11.5"
  },
  "varInspector": {
   "cols": {
    "lenName": 16,
    "lenType": 16,
    "lenVar": 40
   },
   "kernels_config": {
    "python": {
     "delete_cmd_postfix": "",
     "delete_cmd_prefix": "del ",
     "library": "var_list.py",
     "varRefreshCmd": "print(var_dic_list())"
    },
    "r": {
     "delete_cmd_postfix": ") ",
     "delete_cmd_prefix": "rm(",
     "library": "var_list.r",
     "varRefreshCmd": "cat(var_dic_list()) "
    }
   },
   "types_to_exclude": [
    "module",
    "function",
    "builtin_function_or_method",
    "instance",
    "_Feature"
   ],
   "window_display": false
  }
 },
 "nbformat": 4,
 "nbformat_minor": 5
}
